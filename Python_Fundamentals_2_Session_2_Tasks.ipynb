{
  "nbformat": 4,
  "nbformat_minor": 0,
  "metadata": {
    "colab": {
      "provenance": [],
      "include_colab_link": true
    },
    "kernelspec": {
      "name": "python3",
      "display_name": "Python 3"
    },
    "language_info": {
      "name": "python"
    }
  },
  "cells": [
    {
      "cell_type": "markdown",
      "metadata": {
        "id": "view-in-github",
        "colab_type": "text"
      },
      "source": [
        "<a href=\"https://colab.research.google.com/github/SobanAliAwan/PYTHON-FUNDAMENTALS-2/blob/main/Python_Fundamentals_2_Session_2_Tasks.ipynb\" target=\"_parent\"><img src=\"https://colab.research.google.com/assets/colab-badge.svg\" alt=\"Open In Colab\"/></a>"
      ]
    },
    {
      "cell_type": "markdown",
      "source": [
        "# Tuple\n"
      ],
      "metadata": {
        "id": "limD5IAfl-tz"
      }
    },
    {
      "cell_type": "markdown",
      "source": [
        "###`Q1:` Join Tuples if similar initial element\n",
        "While working with Python tuples, we can have a problem in which we need to perform concatenation of records from the similarity of initial element. This problem can have applications in data domains such as Data Science.\n",
        "\n",
        "For eg.\n",
        "```\n",
        "Input  : test_list = [(5, 6), (5, 7), (5, 8), (6, 10), (7, 13)]\n",
        "Output : [(5, 6, 7, 8), (6, 10), (7, 13)]\n",
        "```"
      ],
      "metadata": {
        "id": "nSTn3CjbmB7q"
      }
    },
    {
      "cell_type": "code",
      "source": [
        "# write your code here\n",
        "\n",
        "from collections import defaultdict\n",
        "\n",
        "# Sample input\n",
        "test_list = [(5, 6), (5, 7), (5, 8), (6, 10), (7, 13)]\n",
        "\n",
        "# Dictionary to hold grouped items\n",
        "grouped = defaultdict(list)\n",
        "\n",
        "# Grouping by the first element\n",
        "for tpl in test_list:\n",
        "    key = tpl[0]\n",
        "    grouped[key].extend(tpl[1:])\n",
        "\n",
        "# Creating the final result\n",
        "result = [(key, *values) for key, values in grouped.items()]\n",
        "\n",
        "# Output\n",
        "print(result)\n"
      ],
      "metadata": {
        "id": "hwVeEvH9rJzU",
        "colab": {
          "base_uri": "https://localhost:8080/"
        },
        "outputId": "d157ed8e-cfb1-44f9-cb49-d8640fce2a8a"
      },
      "execution_count": 1,
      "outputs": [
        {
          "output_type": "stream",
          "name": "stdout",
          "text": [
            "[(5, 6, 7, 8), (6, 10), (7, 13)]\n"
          ]
        }
      ]
    },
    {
      "cell_type": "markdown",
      "source": [
        "###`Q2:` Multiply Adjacent elements (both side) and take sum of right and lest side multiplication result.\n",
        "\n",
        "\n",
        "For eg.\n",
        "```\n",
        "The original tuple : (1, 5, 7, 8, 10)\n",
        "Resultant tuple after multiplication :\n",
        "\n",
        "(1*5, 1*5+5*7, 7*5 + 7*8, 8*7 + 8*10, 10*8) -> (5, 40, 91, 136, 80)\n",
        "\n",
        "output-(5, 40, 91, 136, 80)\n",
        "```"
      ],
      "metadata": {
        "id": "ujQpZOFFmeha"
      }
    },
    {
      "cell_type": "code",
      "source": [
        "# write your code here\n",
        "# Given input tuple\n",
        "input_tuple = (1, 5, 7, 8, 10)\n",
        "\n",
        "# Convert to list for easier indexing\n",
        "lst = list(input_tuple)\n",
        "\n",
        "# Empty list for result\n",
        "result = []\n",
        "\n",
        "# Loop through each index\n",
        "for i in range(len(lst)):\n",
        "    if i == 0:\n",
        "        # First element: multiply with next\n",
        "        result.append(lst[i] * lst[i + 1])\n",
        "    elif i == len(lst) - 1:\n",
        "        # Last element: multiply with previous\n",
        "        result.append(lst[i] * lst[i - 1])\n",
        "    else:\n",
        "        # Middle elements: multiply with both neighbors\n",
        "        left = lst[i] * lst[i - 1]\n",
        "        right = lst[i] * lst[i + 1]\n",
        "        result.append(left + right)\n",
        "\n",
        "# Convert back to tuple\n",
        "output_tuple = tuple(result)\n",
        "\n",
        "# Print the result\n",
        "print(output_tuple)\n"
      ],
      "metadata": {
        "id": "N9lveEsArNVc"
      },
      "execution_count": null,
      "outputs": []
    },
    {
      "cell_type": "markdown",
      "source": [
        "###`Q3`: Check is tuples are same or not?\n",
        "Two tuples would be same if both tuples have same element at same index\n",
        "```\n",
        "t1 = (1,2,3,0)\n",
        "t2 = (0,1,2,3)\n",
        "\n",
        "t1 and t2 are not same\n",
        "```"
      ],
      "metadata": {
        "id": "x0psnUiu2ZVp"
      }
    },
    {
      "cell_type": "code",
      "source": [
        "# write your code here\n",
        "t1 = (1,2,3,0)\n",
        "t2 = (0,1,2,3)\n",
        "\n",
        "print(\"Same\" if t1 == t2 else \"Not same\")\n"
      ],
      "metadata": {
        "id": "JMVw9EhSrPEc",
        "colab": {
          "base_uri": "https://localhost:8080/"
        },
        "outputId": "f7cacee3-eb05-4586-aad2-50636badc19d"
      },
      "execution_count": 4,
      "outputs": [
        {
          "output_type": "stream",
          "name": "stdout",
          "text": [
            "Not same\n"
          ]
        }
      ]
    },
    {
      "cell_type": "markdown",
      "source": [
        "###`Q4`: Count no of tuples, list and set from a list\n",
        "```\n",
        "list1 = [{'hi', 'bye'},{'Geeks', 'forGeeks'},('a', 'b'),['hi', 'bye'],['a', 'b']]\n",
        "\n",
        "```\n",
        "`Output:`\n",
        "\n",
        "```\n",
        "List-2\n",
        "Set-2\n",
        "Tuples-1\n",
        "```"
      ],
      "metadata": {
        "id": "aZ4rObHK4fCN"
      }
    },
    {
      "cell_type": "code",
      "source": [
        "# write your code here\n",
        "list1 = [{'hi', 'bye'},{'Geeks', 'forGeeks'},('a', 'b'),['hi', 'bye'],['a', 'b']]\n",
        "set_count = 0\n",
        "list_count = 0\n",
        "tuple_count = 0\n",
        "\n",
        "for item in list1:\n",
        "  if isinstance(item,set):\n",
        "    set_count += 1\n",
        "  elif isinstance(item,list):\n",
        "    list_count +=1\n",
        "  else:\n",
        "    tuple_count +=1\n",
        "\n",
        "print(\"List-\",list_count)\n",
        "print(\"Set-\",set_count)\n",
        "print(\"Tuples-\",tuple_count)\n",
        ""
      ],
      "metadata": {
        "id": "g_Bnuczk69tG",
        "colab": {
          "base_uri": "https://localhost:8080/"
        },
        "outputId": "dad5ef01-23bc-4494-fc1a-87706e6e480b"
      },
      "execution_count": 5,
      "outputs": [
        {
          "output_type": "stream",
          "name": "stdout",
          "text": [
            "List- 2\n",
            "Set- 2\n",
            "Tuples- 1\n"
          ]
        }
      ]
    },
    {
      "cell_type": "markdown",
      "source": [
        "Problem: Count the Number of Integers, Strings, and Floats in a List\n",
        "\n",
        "You are given a list that contains different data types.\n",
        "Your task is to count how many integers, strings, and floats are present in the list.\n",
        "\n",
        "mixed_list = [1, \"hello\", 3.14, 42, \"world\", 2.71, 100, \"Python\"]"
      ],
      "metadata": {
        "id": "ZK7z7xezYp0P"
      }
    },
    {
      "cell_type": "code",
      "source": [
        "mixed_list = [1, \"hello\", 3.14, 42, \"world\", 2.71, 100, \"Python\"]\n",
        "\n",
        "set_integer = 0\n",
        "set_string = 0\n",
        "set_float = 0\n",
        "\n",
        "for item in mixed_list:\n",
        "  if isinstance(item,int):\n",
        "    set_integer +=1\n",
        "  elif isinstance(item,str):\n",
        "    set_string +=1\n",
        "  else:\n",
        "    set_float +=1\n",
        "\n",
        "print(\"Integer-\",set_integer)\n",
        "print(\"String-\",set_string)\n",
        "print(\"Float-\",set_float)"
      ],
      "metadata": {
        "colab": {
          "base_uri": "https://localhost:8080/"
        },
        "id": "6EyHk5hyYzAS",
        "outputId": "55220199-2b5b-44ba-9273-bf2628cfcd9e"
      },
      "execution_count": 7,
      "outputs": [
        {
          "output_type": "stream",
          "name": "stdout",
          "text": [
            "Integer- 3\n",
            "String- 3\n",
            "Float- 2\n"
          ]
        }
      ]
    },
    {
      "cell_type": "markdown",
      "source": [
        "###`Q5`: Shortlist Students for a Job role\n",
        "Ask user to input students record and store in tuples for each record. Then Ask user to input three things he wants in the candidate- Primary Skill, Higher Education, Year of Graduation.\n",
        "\n",
        "Show every students record in form of tuples if matches all required criteria.\n",
        "\n",
        "It is assumed that there will be only one primry skill.\n",
        "\n",
        "If no such candidate found, print `No such candidate`\n",
        "\n",
        "`Input:`\n",
        "```\n",
        "Enter No of records- 2\n",
        "Enter Details of student-1\n",
        "Enter Student name- Manohar\n",
        "Enter Higher Education- B.Tech\n",
        "Enter Primary Skill- Python\n",
        "Enter Year of Graduation- 2022\n",
        "Enter Details of student-2\n",
        "Enter Student name- Ponian\n",
        "Enter Higher Education- B.Sc.\n",
        "Enter Primary Skill- C++\n",
        "Enter Year of Graduation- 2020\n",
        "\n",
        "Enter Job Role Requirement\n",
        "Enter Skill- Python\n",
        "Enter Higher Education- B.Tech\n",
        "Enter Year of Graduation- 2022\n",
        "```\n",
        "\n",
        "`Output`\n",
        "```\n",
        "('Manohar', 'B.tech', 'Python', '2022')\n",
        "```\n"
      ],
      "metadata": {
        "id": "jInFNuit8hf1"
      }
    },
    {
      "cell_type": "code",
      "source": [
        "# write your code here\n",
        "# Step 1: Take number of student records\n",
        "n = int(input(\"Enter No of records: \"))\n",
        "students = []\n",
        "\n",
        "# Step 2: Input each student record\n",
        "for i in range(n):\n",
        "    print(f\"\\nEnter Details of student-{i+1}\")\n",
        "    name = input(\"Enter Student name: \")\n",
        "    education = input(\"Enter Higher Education: \")\n",
        "    skill = input(\"Enter Primary Skill: \")\n",
        "    graduation = input(\"Enter Year of Graduation: \")\n",
        "\n",
        "    # Store as tuple\n",
        "    students.append((name, education, skill, graduation))\n",
        "\n",
        "# Step 3: Input job role requirement\n",
        "print(\"\\nEnter Job Role Requirement\")\n",
        "req_skill = input(\"Enter Skill: \")\n",
        "req_edu = input(\"Enter Higher Education: \")\n",
        "req_grad = input(\"Enter Year of Graduation: \")\n",
        "\n",
        "# Step 4: Check and print matching candidates\n",
        "found = False\n",
        "print(\"\\nMatching Candidates:\")\n",
        "for student in students:\n",
        "    name, education, skill, graduation = student\n",
        "    if skill == req_skill and education == req_edu and graduation == req_grad:\n",
        "        print(student)\n",
        "        found = True\n",
        "\n",
        "if not found:\n",
        "    print(\"No such candidate\")\n"
      ],
      "metadata": {
        "id": "erh9QZaerSHk",
        "colab": {
          "base_uri": "https://localhost:8080/"
        },
        "outputId": "e80513b0-8a98-44c5-9b41-821fcfc1afe5"
      },
      "execution_count": 8,
      "outputs": [
        {
          "output_type": "stream",
          "name": "stdout",
          "text": [
            "Enter No of records: 2\n",
            "\n",
            "Enter Details of student-1\n",
            "Enter Student name: shah hassan \n",
            "Enter Higher Education: BS\n",
            "Enter Primary Skill: Business finance\n",
            "Enter Year of Graduation: 2028\n",
            "\n",
            "Enter Details of student-2\n",
            "Enter Student name: soban ali awan \n",
            "Enter Higher Education: BS\n",
            "Enter Primary Skill: Data Science \n",
            "Enter Year of Graduation: 2028\n",
            "\n",
            "Enter Job Role Requirement\n",
            "Enter Skill: Ai engineer\n",
            "Enter Higher Education: BS\n",
            "Enter Year of Graduation: 2028\n",
            "\n",
            "Matching Candidates:\n",
            "No such candidate\n"
          ]
        }
      ]
    },
    {
      "cell_type": "markdown",
      "source": [
        "Industry-Based Problem: Shortlist Job Applicants for an Interview\n",
        "Scenario:\n",
        "You are working for an HR software platform used by tech companies. The HR manager wants to filter candidates based on:\n",
        "\n",
        "Minimum years of experience\n",
        "\n",
        "Required technology (skill)\n",
        "\n",
        "Preferred location\n",
        "\n",
        "Each applicant's record contains:\n",
        "\n",
        "Name\n",
        "\n",
        "Experience (in years)\n",
        "\n",
        "Skills (comma-separated string)\n",
        "\n",
        "Location"
      ],
      "metadata": {
        "id": "I4aLzMNIbmy5"
      }
    },
    {
      "cell_type": "code",
      "source": [
        "# write your code here\n",
        "# Step 1: Take number of employee records\n",
        "n = int(input(\"Enter No of records: \"))\n",
        "employees = []\n",
        "\n",
        "# Step 2: Input each employee record\n",
        "for i in range(n):\n",
        "    print(f\"\\nEnter Details of employee-{i+1}\")\n",
        "    name = input(\"Enter applicant name: \")\n",
        "    experience = int(input(\"Enter Experience (in years): \"))\n",
        "    skill = input(\"Enter Skill: \")\n",
        "    location = input(\"Enter location: \")\n",
        "\n",
        "    # Store as tuple\n",
        "    employees.append((name, experience, skill, location))\n",
        "\n",
        "# Step 3: Input job role requirement\n",
        "print(\"\\nEnter Job Role Requirement\")\n",
        "min_exp = int(input(\"Enter minimum experience (in years): \"))\n",
        "req_skill = input(\"Enter required skill: \")\n",
        "req_loc = input(\"Enter preferred location: \")\n",
        "\n",
        "# Step 4: Check and print matching candidates\n",
        "found = False\n",
        "print(\"\\nMatching Candidates:\")\n",
        "for employee in employees:\n",
        "    name, experience, skill, location = employee\n",
        "    if experience >= min_exp and skill == req_skill and location == req_loc:\n",
        "        print(employee)\n",
        "        found = True\n",
        "\n",
        "if not found:\n",
        "    print(\"No such candidate\")\n"
      ],
      "metadata": {
        "colab": {
          "base_uri": "https://localhost:8080/"
        },
        "id": "XMrTLEk8bop6",
        "outputId": "011697d8-4fc7-457f-af48-38971c993a96"
      },
      "execution_count": 12,
      "outputs": [
        {
          "output_type": "stream",
          "name": "stdout",
          "text": [
            "Enter No of records: 3\n",
            "\n",
            "Enter Details of employee-1\n",
            "Enter applicant name: soban ali awan \n",
            "Enter Experience (in years): 2\n",
            "Enter Skill: python \n",
            "Enter location: dallas\n",
            "\n",
            "Enter Details of employee-2\n",
            "Enter applicant name: shah hassan \n",
            "Enter Experience (in years): 1\n",
            "Enter Skill: python \n",
            "Enter location: germany\n",
            "\n",
            "Enter Details of employee-3\n",
            "Enter applicant name: hassnain \n",
            "Enter Experience (in years): 4\n",
            "Enter Skill: larval\n",
            "Enter location: dallas\n",
            "\n",
            "Enter Job Role Requirement\n",
            "Enter minimum experience (in years): 2\n",
            "Enter required skill: python \n",
            "Enter preferred location: dallas\n",
            "\n",
            "Matching Candidates:\n",
            "('soban ali awan ', 2, 'python ', 'dallas')\n"
          ]
        }
      ]
    },
    {
      "cell_type": "markdown",
      "source": [
        "# Set"
      ],
      "metadata": {
        "id": "l4hLvwD2BeIN"
      }
    },
    {
      "cell_type": "markdown",
      "source": [
        "###`Q1:` Write a program to find set of common elements in three lists using sets.\n",
        "```\n",
        "Input : ar1 = [1, 5, 10, 20, 40, 80]\n",
        "        ar2 = [6, 7, 20, 80, 100]\n",
        "        ar3 = [3, 4, 15, 20, 30, 70, 80, 120]\n",
        "\n",
        "Output : [80, 20]\n",
        "```"
      ],
      "metadata": {
        "id": "zCX0Sk2IBfu8"
      }
    },
    {
      "cell_type": "code",
      "source": [
        "# write your code here\n",
        "# Given input lists\n",
        "ar1 = [1, 5, 10, 20, 40, 80]\n",
        "ar2 = [6, 7, 20, 80, 100]\n",
        "ar3 = [3, 4, 15, 20, 30, 70, 80, 120]\n",
        "\n",
        "# Convert lists to sets\n",
        "set1 = set(ar1)\n",
        "set2 = set(ar2)\n",
        "set3 = set(ar3)\n",
        "\n",
        "# Find common elements using set intersection\n",
        "common = list(set1 & set2 & set3)\n",
        "\n",
        "# Optional: reverse to match the example output\n",
        "common.sort(reverse=True)\n",
        "\n",
        "# Print result\n",
        "print(\"Common elements:\", common)\n"
      ],
      "metadata": {
        "id": "rqATYpBUrUQU",
        "colab": {
          "base_uri": "https://localhost:8080/"
        },
        "outputId": "a5653954-db2b-4580-a55f-30d66282f10d"
      },
      "execution_count": 13,
      "outputs": [
        {
          "output_type": "stream",
          "name": "stdout",
          "text": [
            "Common elements: [80, 20]\n"
          ]
        }
      ]
    },
    {
      "cell_type": "markdown",
      "source": [
        "###`Q2:` Write a program to count unique number of vowels using sets in a given string. Lowercase and upercase vowels will be taken as different.\n",
        "\n",
        "`Input:`\n",
        "```\n",
        "Str1 = \"hands-on data science mentorship progrAm with live classes at affordable fee only on CampusX\"\n",
        "```\n",
        "`Output:`\n",
        "```\n",
        "No of unique vowels-6\n",
        "```"
      ],
      "metadata": {
        "id": "0gOVS-0yCYrK"
      }
    },
    {
      "cell_type": "code",
      "source": [
        "# write your code here\n",
        "Str1 = \"hands-on data science mentorship progrAm with live classes at affordable fee only on CampusX\"\n",
        "\n",
        "vowels = set('aeiouAEIOU')\n",
        "unique_vowels = set()\n",
        "\n",
        "for char in vowels:\n",
        "  if char in Str1:\n",
        "    unique_vowels.add(char)\n",
        "\n",
        "print(\"No of unique vowels-\",len(unique_vowels))"
      ],
      "metadata": {
        "id": "0vAlEAOzDihm",
        "colab": {
          "base_uri": "https://localhost:8080/"
        },
        "outputId": "97467664-920b-4c7a-f339-5d561d1966f8"
      },
      "execution_count": 14,
      "outputs": [
        {
          "output_type": "stream",
          "name": "stdout",
          "text": [
            "No of unique vowels- 6\n"
          ]
        }
      ]
    },
    {
      "cell_type": "markdown",
      "source": [
        "### `Q3:` Write a program to Check if a given string is binary string of or not.\n",
        "\n",
        "A string is said to be binary if it's consists of only two unique characters.\n",
        "\n",
        "Take string input from user.\n",
        "\n",
        "```\n",
        "Input: str = \"01010101010\"\n",
        "Output: Yes\n",
        "\n",
        "Input: str = \"1222211\"\n",
        "Output: Yes\n",
        "\n",
        "Input: str = \"Campusx\"\n",
        "Output: No\n",
        "```"
      ],
      "metadata": {
        "id": "fqLZxiarEne5"
      }
    },
    {
      "cell_type": "code",
      "source": [
        "# write your code here\n",
        "# Take input from user\n",
        "user_input = input(\"Enter a string: \")\n",
        "\n",
        "# Use set to find unique characters\n",
        "unique_chars = set(user_input)\n",
        "\n",
        "# Check if there are exactly 2 unique characters\n",
        "if len(unique_chars) == 2:\n",
        "    print(\"Yes\")\n",
        "else:\n",
        "    print(\"No\")\n"
      ],
      "metadata": {
        "id": "5M5v8LoYrXkE",
        "colab": {
          "base_uri": "https://localhost:8080/"
        },
        "outputId": "5d2fb4fe-ea2f-429b-c8d0-95845e455a1b"
      },
      "execution_count": 15,
      "outputs": [
        {
          "output_type": "stream",
          "name": "stdout",
          "text": [
            "Enter a string: sososo\n",
            "Yes\n"
          ]
        }
      ]
    },
    {
      "cell_type": "markdown",
      "source": [
        "### `Q4`: find union of n arrays.\n",
        "\n",
        "**Example 1:**\n",
        "\n",
        "Input:\n",
        "```bash\n",
        "[[1, 2, 2, 4, 3, 6],\n",
        " [5, 1, 3, 4],\n",
        " [9, 5, 7, 1],\n",
        " [2, 4, 1, 3]]\n",
        "```\n",
        "\n",
        "Output:\n",
        "\n",
        "```bash\n",
        "[1, 2, 3, 4, 5, 6, 7, 9]\n",
        "```"
      ],
      "metadata": {
        "id": "xXS8wYH1mDqx"
      }
    },
    {
      "cell_type": "code",
      "source": [
        "# write your code here\n",
        "# Given input list of arrays\n",
        "arrays = [\n",
        "    [1, 2, 2, 4, 3, 6],\n",
        "    [5, 1, 3, 4],\n",
        "    [9, 5, 7, 1],\n",
        "    [2, 4, 1, 3]\n",
        "]\n",
        "\n",
        "# Use a set to store all unique elements from all arrays\n",
        "union_set = set()\n",
        "\n",
        "# Loop through each array and update the set\n",
        "for arr in arrays:\n",
        "    union_set.update(arr)\n",
        "\n",
        "# Convert to sorted list (optional)\n",
        "result = sorted(list(union_set))\n",
        "\n",
        "# Print result\n",
        "print(\"Union of arrays:\", result)\n"
      ],
      "metadata": {
        "id": "FVNyK6MbncU8"
      },
      "execution_count": null,
      "outputs": []
    },
    {
      "cell_type": "markdown",
      "source": [
        "### `Q5`: Intersection of two lists. Intersection of two list means we need to take all those elements which are common to both of the initial lists and store them into another list. Only use using **list-comprehension**.\n",
        "\n",
        "**Example 1:**\n",
        "\n",
        "Input:\n",
        "```bash\n",
        "lst1 = {15, 9, 10, 56, 23, 78, 5, 4, 9}\n",
        "lst2 = {9, 4, 5, 36, 47, 26, 10, 45, 87}\n",
        "```\n",
        "\n",
        "Output:\n",
        "```bash\n",
        "[9, 10, 4, 5]\n",
        "```\n",
        "\n",
        "**Example 2:**\n",
        "\n",
        "Input:\n",
        "```bash\n",
        "lst1 = {4, 9, 1, 17, 11, 26, 28, 54, 69}\n",
        "lst2 = {9, 9, 74, 21, 45, 11, 63, 28, 26}\n",
        "```\n",
        "\n",
        "Output:\n",
        "```bash\n",
        "[9, 11, 26, 28]\n",
        "```"
      ],
      "metadata": {
        "id": "T_Re21BdndOz"
      }
    },
    {
      "cell_type": "code",
      "source": [
        "# write your code here\n",
        "lst1 = {4, 9, 1, 17, 11, 26, 28, 54, 69}\n",
        "lst2 = {9, 9, 74, 21, 45, 11, 63, 28, 26}\n",
        "print(list(set(lst1) & set(lst2)))"
      ],
      "metadata": {
        "id": "nWnL25ftoLVT",
        "colab": {
          "base_uri": "https://localhost:8080/"
        },
        "outputId": "6ea060bb-e439-42ec-cc08-8b211696a507"
      },
      "execution_count": 16,
      "outputs": [
        {
          "output_type": "stream",
          "name": "stdout",
          "text": [
            "[9, 26, 11, 28]\n"
          ]
        }
      ]
    },
    {
      "cell_type": "markdown",
      "source": [
        "# Dictionary"
      ],
      "metadata": {
        "id": "tD2RSYn1a8oA"
      }
    },
    {
      "cell_type": "markdown",
      "source": [
        "### `Q1`: Key with maximum unique values\n",
        "\n",
        "Given a dictionary with values list, extract key whose value has most unique values.\n",
        "\n",
        "**Example 1:**\n",
        "\n",
        "Input:\n",
        "\n",
        "```bash\n",
        "test_dict = {\"CampusX\" : [5, 7, 9, 4, 0], \"is\" : [6, 7, 4, 3, 3], \"Best\" : [9, 9, 6, 5, 5]}\n",
        "```\n",
        "\n",
        "Output:\n",
        "```bash\n",
        "CampusX\n",
        "```\n",
        "\n",
        "**Example 2:**\n",
        "\n",
        "Input:\n",
        "```bash\n",
        "test_dict = {\"CampusX\" : [5, 7, 7, 7, 7], \"is\" : [6, 7, 7, 7], \"Best\" : [9, 9, 6, 5, 5]}\n",
        "```\n",
        "\n",
        "Output:\n",
        "```bash\n",
        "Best\n",
        "```"
      ],
      "metadata": {
        "id": "7tUjHhcPbQzQ"
      }
    },
    {
      "cell_type": "code",
      "source": [
        "# write your code here\n",
        "# Input dictionary\n",
        "test_dict = {\n",
        "    \"CampusX\": [5, 7, 9, 4, 0],\n",
        "    \"is\": [6, 7, 4, 3, 3],\n",
        "    \"Best\": [9, 9, 6, 5, 5]\n",
        "}\n",
        "\n",
        "# Start with no key and 0 unique values\n",
        "max_count = 0\n",
        "key_with_max = \"\"\n",
        "\n",
        "# Go through each item in the dictionary\n",
        "for key in test_dict:\n",
        "    # Remove duplicates using set\n",
        "    unique_values = set(test_dict[key])\n",
        "\n",
        "    # Count how many unique values\n",
        "    count = len(unique_values)\n",
        "\n",
        "    # Check if this is the largest so far\n",
        "    if count > max_count:\n",
        "        max_count = count\n",
        "        key_with_max = key\n",
        "\n",
        "# Print the result\n",
        "print(key_with_max)\n"
      ],
      "metadata": {
        "id": "N8KHX863lNxL",
        "colab": {
          "base_uri": "https://localhost:8080/"
        },
        "outputId": "cfb81021-77cb-411e-92f4-788d44789a5f"
      },
      "execution_count": 17,
      "outputs": [
        {
          "output_type": "stream",
          "name": "stdout",
          "text": [
            "CampusX\n"
          ]
        }
      ]
    },
    {
      "cell_type": "markdown",
      "source": [
        "### `Q2`: Replace words from Dictionary. Given String, replace it’s words from lookup dictionary.\n",
        "\n",
        "**Example 1:**\n",
        "\n",
        "Input:\n",
        "\n",
        "```bash\n",
        "test_str = 'CampusX best for DS students.'\n",
        "repl_dict = {\"best\" : \"is the best channel\", \"DS\" : \"Data-Science\"}\n",
        "```\n",
        "\n",
        "Output:\n",
        "\n",
        "```bash\n",
        "CampusX is the best channel for Data-Science students.\n",
        "```\n",
        "\n",
        "**Example 2:**\n",
        "\n",
        "Input:\n",
        "```bash\n",
        "test_str = 'CampusX best for DS students.'\n",
        "repl_dict = {\"good\" : \"is the best channel\", \"ds\" : \"Data-Science\"}\n",
        "```\n",
        "\n",
        "Output:\n",
        "```bash\n",
        "CampusX best for DS students.\n",
        "```"
      ],
      "metadata": {
        "id": "_S5X6C84dWdJ"
      }
    },
    {
      "cell_type": "code",
      "source": [
        "# write your code here\n",
        "# Input string and replacement dictionary\n",
        "test_str = 'CampusX best for DS students.'\n",
        "repl_dict = {\"best\": \"is the best channel\", \"DS\": \"Data-Science\"}\n",
        "\n",
        "# Split the string into words\n",
        "words = test_str.split()\n",
        "\n",
        "# Replace words if they exist in the dictionary\n",
        "for i in range(len(words)):\n",
        "    # Remove punctuation from word (like '.') if needed for clean matching\n",
        "    word = words[i].strip('.')\n",
        "\n",
        "    # Check if word is in dictionary\n",
        "    if word in repl_dict:\n",
        "        # Add punctuation back if needed\n",
        "        if words[i].endswith('.'):\n",
        "            words[i] = repl_dict[word] + '.'\n",
        "        else:\n",
        "            words[i] = repl_dict[word]\n",
        "\n",
        "# Join the updated words back into a string\n",
        "result = ' '.join(words)\n",
        "\n",
        "# Print the result\n",
        "print(result)\n"
      ],
      "metadata": {
        "id": "BTAQ8qnrlOxr",
        "colab": {
          "base_uri": "https://localhost:8080/"
        },
        "outputId": "bf158c75-10c4-41b0-aa6a-f39f326bcb11"
      },
      "execution_count": 18,
      "outputs": [
        {
          "output_type": "stream",
          "name": "stdout",
          "text": [
            "CampusX is the best channel for Data-Science students.\n"
          ]
        }
      ]
    },
    {
      "cell_type": "markdown",
      "source": [
        "### `Q3`: Convert List to List of dictionaries. Given list values and keys list, convert these values to key value pairs in form of list of dictionaries.\n",
        "\n",
        "**Example 1:**\n",
        "\n",
        "Input:\n",
        "```bash\n",
        "test_list = [\"DataScience\", 3, \"is\", 8]\n",
        "key_list = [\"name\", \"id\"]\n",
        "```\n",
        "\n",
        "Output:\n",
        "\n",
        "```bash\n",
        "[{'name': 'DataScience', 'id': 3}, {'name': 'is', 'id': 8}]\n",
        "```\n",
        "\n",
        "**Example 2:**\n",
        "\n",
        "Input:\n",
        "```bash\n",
        "test_list = [\"CampusX\", 10]\n",
        "key_list = [\"name\", \"id\"]\n",
        "```\n",
        "\n",
        "Output:\n",
        "\n",
        "```bash\n",
        "[{'name': 'CampusX', 'id': 10}]\n",
        "```"
      ],
      "metadata": {
        "id": "55xgap3zfbcR"
      }
    },
    {
      "cell_type": "code",
      "source": [
        "# write your code here\n",
        "# Given input\n",
        "test_list = [\"DataScience\", 3, \"is\", 8]\n",
        "key_list = [\"name\", \"id\"]\n",
        "\n",
        "# Result list to store dictionaries\n",
        "result = []\n",
        "\n",
        "# Loop over values in chunks of key_list size\n",
        "for i in range(0, len(test_list), len(key_list)):\n",
        "    # Create key-value pairs using zip()\n",
        "    temp = dict(zip(key_list, test_list[i:i+len(key_list)]))\n",
        "    result.append(temp)\n",
        "\n",
        "# Print the result\n",
        "print(result)\n"
      ],
      "metadata": {
        "id": "jbCajI87lQFr"
      },
      "execution_count": null,
      "outputs": []
    },
    {
      "cell_type": "markdown",
      "source": [
        "### `Q4`: Convert a list of Tuples into Dictionary.\n",
        "\n",
        "**Example 1:**\n",
        "\n",
        "Input:\n",
        "```bash\n",
        "[(\"akash\", 10), (\"gaurav\", 12), (\"anand\", 14), (\"suraj\", 20), (\"akhil\", 25), (\"ashish\", 30)]\n",
        "```\n",
        "\n",
        "Output:\n",
        "```bash\n",
        "{'akash': [10], 'gaurav': [12], 'anand': [14], 'suraj': [20], 'akhil': [25], 'ashish': [30]}\n",
        "```\n",
        "\n",
        "**Example 2:**\n",
        "\n",
        "Input:\n",
        "```bash\n",
        "[('A', 1), ('B', 2), ('C', 3)]\n",
        "```\n",
        "\n",
        "Output:\n",
        "```bash\n",
        "{'A': [1], 'B': [2], 'C': [3]}\n",
        "```"
      ],
      "metadata": {
        "id": "5RxBlLQahLkB"
      }
    },
    {
      "cell_type": "code",
      "source": [
        "# write your code here\n",
        "# Given input\n",
        "tuple_list = [(\"akash\", 10), (\"gaurav\", 12), (\"anand\", 14),\n",
        "              (\"suraj\", 20), (\"akhil\", 25), (\"ashish\", 30)]\n",
        "\n",
        "# Create dictionary\n",
        "result = {}\n",
        "\n",
        "# Loop through each tuple\n",
        "for key, value in tuple_list:\n",
        "    result[key] = [value]  # Put value inside a list\n",
        "\n",
        "# Print result\n",
        "print(result)\n"
      ],
      "metadata": {
        "id": "f1yz7inMlQ5N",
        "colab": {
          "base_uri": "https://localhost:8080/"
        },
        "outputId": "7b7980ae-2f93-4e17-d5b8-8f84fa7ca25d"
      },
      "execution_count": 19,
      "outputs": [
        {
          "output_type": "stream",
          "name": "stdout",
          "text": [
            "{'akash': [10], 'gaurav': [12], 'anand': [14], 'suraj': [20], 'akhil': [25], 'ashish': [30]}\n"
          ]
        }
      ]
    },
    {
      "cell_type": "markdown",
      "source": [
        "### `Q5`: Sort Dictionary key and values List.\n",
        "\n",
        "**Example 1:**\n",
        "\n",
        "Input:\n",
        "\n",
        "```bash\n",
        "{'c': [3], 'b': [12, 10], 'a': [19, 4]}\n",
        "```\n",
        "\n",
        "Output:\n",
        "\n",
        "```bash\n",
        "{'a': [4, 19], 'b': [10, 12], 'c': [3]}\n",
        "```\n",
        "\n",
        "**Example 2:**\n",
        "\n",
        "Input:\n",
        "\n",
        "```bash\n",
        "{'c': [10, 34, 3]}\n",
        "```\n",
        "\n",
        "Output:\n",
        "\n",
        "```bash\n",
        "{'c': [3, 10, 34]}\n",
        "```"
      ],
      "metadata": {
        "id": "Fz8EzJD-kBkS"
      }
    },
    {
      "cell_type": "code",
      "source": [
        "# write your code here\n",
        "# Given input\n",
        "input_dict = {'c': [3], 'b': [12, 10], 'a': [19, 4]}\n",
        "\n",
        "# Step 1: Sort the dictionary by keys\n",
        "# Step 2: Sort the value list for each key\n",
        "sorted_dict = {key: sorted(value) for key, value in sorted(input_dict.items())}\n",
        "\n",
        "# Print result\n",
        "print(sorted_dict)\n"
      ],
      "metadata": {
        "id": "x9UmJ4EQk7Pp",
        "colab": {
          "base_uri": "https://localhost:8080/"
        },
        "outputId": "7d9fc56a-0cae-4400-c118-40df3b93ea79"
      },
      "execution_count": 20,
      "outputs": [
        {
          "output_type": "stream",
          "name": "stdout",
          "text": [
            "{'a': [4, 19], 'b': [10, 12], 'c': [3]}\n"
          ]
        }
      ]
    }
  ]
}