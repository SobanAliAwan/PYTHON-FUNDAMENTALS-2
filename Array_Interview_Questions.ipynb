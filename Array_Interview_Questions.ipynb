{
  "nbformat": 4,
  "nbformat_minor": 0,
  "metadata": {
    "colab": {
      "provenance": [],
      "include_colab_link": true
    },
    "kernelspec": {
      "name": "python3",
      "display_name": "Python 3"
    },
    "language_info": {
      "name": "python"
    }
  },
  "cells": [
    {
      "cell_type": "markdown",
      "metadata": {
        "id": "view-in-github",
        "colab_type": "text"
      },
      "source": [
        "<a href=\"https://colab.research.google.com/github/SobanAliAwan/PYTHON-FUNDAMENTALS-2/blob/main/Array_Interview_Questions.ipynb\" target=\"_parent\"><img src=\"https://colab.research.google.com/assets/colab-badge.svg\" alt=\"Open In Colab\"/></a>"
      ]
    },
    {
      "cell_type": "markdown",
      "source": [
        "## Points to remember\n",
        "\n",
        "- Codes asked are relatively easier in comparison to SDE roles\n",
        "- Pythonic syntax is preferred in most companies\n",
        "- Focus is on optimized code\n",
        "- Start with the simplest solution and then improve\n",
        "- A lot of questions are repeated so mugging up the approaches help\n",
        "- Build intuition using Python Tutor"
      ],
      "metadata": {
        "id": "lymMOnZVdJ_B"
      }
    },
    {
      "cell_type": "code",
      "source": [
        "# 1. Find the kth largest/smallest item from a list\n",
        "\n",
        "L = [12,23,1,4,56,34,22,3]\n",
        "k=3\n",
        "\n",
        "L.sort(reverse=True) # arranged in decending order [56,34,23......]\n",
        "print(L[k-1]) # 3-1 = 2 means nummber on 2 index position\n"
      ],
      "metadata": {
        "id": "ztJVsbJ-dK3x",
        "colab": {
          "base_uri": "https://localhost:8080/"
        },
        "outputId": "dd2b174a-84f0-4f9a-90d8-5db301d26877"
      },
      "execution_count": 1,
      "outputs": [
        {
          "output_type": "stream",
          "name": "stdout",
          "text": [
            "23\n"
          ]
        }
      ]
    },
    {
      "cell_type": "code",
      "source": [
        "# 2. Check if an array is sorted\n",
        "L = [1,2,3,4,5]\n",
        "\n",
        "print(\"sorted\" if L == sorted(L) else \"not sorted\")\n",
        "\n"
      ],
      "metadata": {
        "id": "arS5n6xI3BY5",
        "colab": {
          "base_uri": "https://localhost:8080/"
        },
        "outputId": "7d65dc03-39c8-4bbd-f0aa-3912498bc93d"
      },
      "execution_count": 2,
      "outputs": [
        {
          "output_type": "stream",
          "name": "stdout",
          "text": [
            "sorted\n"
          ]
        }
      ]
    },
    {
      "cell_type": "markdown",
      "source": [
        "check if array is sorted in descendign order or not"
      ],
      "metadata": {
        "id": "e2gQhdSFWa1v"
      }
    },
    {
      "cell_type": "code",
      "source": [
        "l = [9,8,7,6,5,4,3,2,1]\n",
        "\n",
        "print(\"sorted\" if l == sorted(l, reverse = True) else 'not sorted')"
      ],
      "metadata": {
        "colab": {
          "base_uri": "https://localhost:8080/"
        },
        "id": "iGFLPoM2Wg7q",
        "outputId": "76e137f4-39cd-41ba-8099-e3d26868aeb6"
      },
      "execution_count": 4,
      "outputs": [
        {
          "output_type": "stream",
          "name": "stdout",
          "text": [
            "sorted\n"
          ]
        }
      ]
    },
    {
      "cell_type": "code",
      "source": [
        "# 3. Find Min/Max in a given array\n",
        "\n",
        "L = [21,1,34,23,54,11,10]\n",
        "\n",
        "max_val = L[0]\n",
        "\n",
        "for i in L:\n",
        "  if i > max_val:\n",
        "    max_val = i\n",
        "\n",
        "print(max_val)"
      ],
      "metadata": {
        "id": "s4iDxzcy3Ht0",
        "colab": {
          "base_uri": "https://localhost:8080/"
        },
        "outputId": "5571dac8-a4ca-40dd-fad6-0913529c8adf"
      },
      "execution_count": null,
      "outputs": [
        {
          "output_type": "stream",
          "name": "stdout",
          "text": [
            "54\n"
          ]
        }
      ]
    },
    {
      "cell_type": "code",
      "source": [
        "# 4. Find the first element to occur k times in an array\n",
        "\n",
        "L = [1,1,2,3,4,4,5,5]\n",
        "\n",
        "k = 2\n",
        "\n",
        "d = {}\n",
        "\n",
        "for i in L:\n",
        "  if i in d:\n",
        "    d[i] = d[i] + 1\n",
        "  else:\n",
        "    d[i] = 1\n",
        "\n",
        "for i in d:\n",
        "  if d[i] == k:\n",
        "    print(i)\n",
        "    break"
      ],
      "metadata": {
        "id": "2AsUw6fh3UmZ",
        "colab": {
          "base_uri": "https://localhost:8080/"
        },
        "outputId": "a2b08c80-9ddd-412c-f5b8-d825fc1a0843"
      },
      "execution_count": 7,
      "outputs": [
        {
          "output_type": "stream",
          "name": "stdout",
          "text": [
            "1\n"
          ]
        }
      ]
    },
    {
      "cell_type": "code",
      "source": [
        "# 5. Find duplicates in an array\n",
        "L = [1,1,2,3,4,4,5,5]\n",
        "\n",
        "for i in range(len(L)):\n",
        "    for j in range(i + 1, len(L)):\n",
        "        if L[i] == L[j]:\n",
        "            print(L[j])\n",
        "\n",
        "\n"
      ],
      "metadata": {
        "id": "b7WwScW6SRHN",
        "colab": {
          "base_uri": "https://localhost:8080/"
        },
        "outputId": "3f3da21c-e462-4171-8bdf-258f99219540"
      },
      "execution_count": 8,
      "outputs": [
        {
          "output_type": "stream",
          "name": "stdout",
          "text": [
            "1\n",
            "4\n",
            "5\n"
          ]
        }
      ]
    },
    {
      "cell_type": "code",
      "source": [
        "# 6. Rotate array to left d items\n",
        "\n",
        "L = [1,2,3,4,5]\n",
        "rotate = 2\n",
        "\n",
        "for i in range(rotate):\n",
        "  temp = L[0]\n",
        "  for j in range(0,len(L)-1):\n",
        "    L[j] = L[j+1]\n",
        "  L[len(L)-1] = temp\n",
        "\n",
        "print(L)"
      ],
      "metadata": {
        "id": "w7QY2t7M3rhI",
        "colab": {
          "base_uri": "https://localhost:8080/"
        },
        "outputId": "0377962a-aefa-4869-fb42-9f40fdcc6c36"
      },
      "execution_count": null,
      "outputs": [
        {
          "output_type": "stream",
          "name": "stdout",
          "text": [
            "[3, 4, 5, 1, 2]\n"
          ]
        }
      ]
    },
    {
      "cell_type": "code",
      "source": [
        "# 7. Find intersection of 2 sorted arrays\n",
        "\n",
        "a = [1,2,3,4,5,8]\n",
        "b = [3,6,7,8]\n",
        "\n",
        "for i in a:\n",
        "  if i in b:\n",
        "    print(i)\n",
        "\n",
        "\n"
      ],
      "metadata": {
        "id": "FEhak99y3wgo",
        "colab": {
          "base_uri": "https://localhost:8080/"
        },
        "outputId": "67c0e00d-49e0-4632-e8d2-9e6a7b61b3c8"
      },
      "execution_count": null,
      "outputs": [
        {
          "output_type": "stream",
          "name": "stdout",
          "text": [
            "3\n",
            "8\n"
          ]
        }
      ]
    },
    {
      "cell_type": "code",
      "source": [
        "a = [1,2,3,4,5,8]\n",
        "b = [3,6,7,8]\n",
        "\n",
        "i=j=0\n",
        "\n",
        "while i<len(a) and j<len(b):\n",
        "  if a[i] == b[j]:\n",
        "    print(a[i])\n",
        "    i+=1\n",
        "    j+=1\n",
        "  elif a[i] > b[j]:\n",
        "    j+=1\n",
        "  else:\n",
        "    i+=1"
      ],
      "metadata": {
        "colab": {
          "base_uri": "https://localhost:8080/"
        },
        "id": "0zCQuVT4-OHk",
        "outputId": "55c899a2-52ad-4214-d3b0-55cfbd1c51c7"
      },
      "execution_count": null,
      "outputs": [
        {
          "output_type": "stream",
          "name": "stdout",
          "text": [
            "3\n",
            "8\n"
          ]
        }
      ]
    },
    {
      "cell_type": "code",
      "source": [
        "# 8. Find continous subarray with a given sum(given non-negative numbers)\n",
        "# return the starting and ending index of the subarray\n",
        "# return 1st subarray in case of multiple\n",
        "\n",
        "L = [1,22,13,7,9,11,10]\n",
        "S = 16\n",
        "\n",
        "for i in range(0,len(L)):\n",
        "  subarray = []\n",
        "  for j in range(i,len(L)):\n",
        "    subarray.append(L[j])\n",
        "    if sum(subarray) == S:\n",
        "      print(subarray)\n"
      ],
      "metadata": {
        "id": "qamyLwBnZZxw",
        "colab": {
          "base_uri": "https://localhost:8080/"
        },
        "outputId": "95b2bb30-23ef-497c-a4ae-0939e58e5b6f"
      },
      "execution_count": null,
      "outputs": [
        {
          "output_type": "stream",
          "name": "stdout",
          "text": [
            "[11, 10]\n"
          ]
        }
      ]
    },
    {
      "cell_type": "code",
      "source": [
        "L = [1,22,13,7,9,11,10]\n",
        "\n",
        "S = 35\n",
        "\n",
        "d = {}\n",
        "curr_sum = 0\n",
        "\n",
        "for i in range(len(L)):\n",
        "  curr_sum = curr_sum + L[i]\n",
        "\n",
        "  if (curr_sum - S) in d:\n",
        "    print(d[curr_sum - S]+1,i)\n",
        "    break\n",
        "\n",
        "  d[curr_sum] = i\n",
        "\n",
        "\n",
        "\n"
      ],
      "metadata": {
        "colab": {
          "base_uri": "https://localhost:8080/"
        },
        "id": "ijwLqR6w6H0U",
        "outputId": "abda76ba-1410-4972-ef0a-c9bd18ce8c08"
      },
      "execution_count": null,
      "outputs": [
        {
          "output_type": "stream",
          "name": "stdout",
          "text": [
            "1 2\n"
          ]
        }
      ]
    },
    {
      "cell_type": "code",
      "source": [
        "# 9. Find element with left side smaller/right side greater in an array\n",
        "\n",
        "L = [3,1,2,5,8,7,9]\n",
        "\n",
        "for i in range(1,len(L)-1):\n",
        "  flag = True\n",
        "\n",
        "  for j in range(0,i):\n",
        "    if L[j] > L[i]:\n",
        "      flag = False\n",
        "\n",
        "  for k in range(i+1,len(L)):\n",
        "    if L[k] < L[i]:\n",
        "      flag = False\n",
        "\n",
        "  if flag:\n",
        "    print(L[i])\n",
        "\n"
      ],
      "metadata": {
        "id": "CVwCKt5U3yb8"
      },
      "execution_count": null,
      "outputs": []
    },
    {
      "cell_type": "code",
      "source": [
        "L = [3,1,2,5,8,7,9]\n",
        "\n",
        "for i in range(1,len(L)-1):\n",
        "  if max(L[:i]) < L[i] < min(L[i+1:]):\n",
        "    print(L[i])"
      ],
      "metadata": {
        "colab": {
          "base_uri": "https://localhost:8080/"
        },
        "id": "Mfsc-3kTxmNT",
        "outputId": "6e965738-1c25-4e4d-87e9-6ba77d0a032a"
      },
      "execution_count": null,
      "outputs": [
        {
          "output_type": "stream",
          "name": "stdout",
          "text": [
            "5\n"
          ]
        }
      ]
    },
    {
      "cell_type": "code",
      "source": [
        "L = [3,1,2,5,8,7,9]\n",
        "\n",
        "max_arr = []\n",
        "min_arr = []\n",
        "\n",
        "max_val = L[0]\n",
        "min_val = L[-1]\n",
        "\n",
        "for i in L:\n",
        "  if i>max_val:\n",
        "    max_val = i\n",
        "  max_arr.append(max_val)\n",
        "\n",
        "for i in range(len(L)-1,-1,-1):\n",
        "  if L[i] < min_val:\n",
        "    min_val = L[i]\n",
        "\n",
        "  min_arr.insert(0,min_val)\n",
        "\n",
        "\n",
        "for i in range(1,len(L)-1):\n",
        "  if max_arr[i-1] < L[i] < min_arr[i+1]:\n",
        "    print(L[i])"
      ],
      "metadata": {
        "colab": {
          "base_uri": "https://localhost:8080/"
        },
        "id": "lTcOuVZ91AtQ",
        "outputId": "2f5b67bf-c2c3-4c61-ad16-1c4e603d2a11"
      },
      "execution_count": null,
      "outputs": [
        {
          "output_type": "stream",
          "name": "stdout",
          "text": [
            "5\n"
          ]
        }
      ]
    },
    {
      "cell_type": "code",
      "source": [
        "# 10. Maximum sum subarray\n",
        "L = [-2,4,7,-1,6,-11,14,3,-1,-6]\n",
        "\n",
        "d = {}\n",
        "\n",
        "for i in range(0,len(L)):\n",
        "  subarray = []\n",
        "  for j in range(i,len(L)):\n",
        "    subarray.append(L[j])\n",
        "    d[sum(subarray)] = subarray\n",
        "\n",
        "max_val = max(d.keys())\n",
        "\n",
        "for i in d:\n",
        "  if i == max_val:\n",
        "    print(d[i])"
      ],
      "metadata": {
        "id": "jnBIIWSf36ZW",
        "colab": {
          "base_uri": "https://localhost:8080/"
        },
        "outputId": "67902095-3bbe-4242-92d9-fb60d3682b1b"
      },
      "execution_count": null,
      "outputs": [
        {
          "output_type": "stream",
          "name": "stdout",
          "text": [
            "[4, 7, -1, 6, -11, 14, 3, -1, -6]\n"
          ]
        }
      ]
    },
    {
      "cell_type": "code",
      "source": [
        "\n",
        "L = [-2,4,7,-1,6,-11,14,3,-1,-6]\n",
        "\n",
        "\n",
        "curr_sum = 0\n",
        "curr_seq = []\n",
        "best_sum = L[0]\n",
        "best_seq = []\n",
        "\n",
        "for i in L:\n",
        "  if i + curr_sum > i:\n",
        "    curr_sum = curr_sum + i\n",
        "    curr_seq.append(i)\n",
        "  else:\n",
        "    curr_sum = i\n",
        "    curr_seq.clear()\n",
        "    curr_seq.append(i)\n",
        "\n",
        "  if curr_sum > best_sum:\n",
        "    best_sum = curr_sum\n",
        "    best_seq = curr_seq\n",
        "\n",
        "print(best_sum,best_seq)\n",
        "\n",
        "\n"
      ],
      "metadata": {
        "colab": {
          "base_uri": "https://localhost:8080/"
        },
        "id": "znzMPw9xsRsk",
        "outputId": "4f191001-f131-4a2d-94a0-6ed04e56f285"
      },
      "execution_count": null,
      "outputs": [
        {
          "output_type": "stream",
          "name": "stdout",
          "text": [
            "22 [4, 7, -1, 6, -11, 14, 3, -1, -6]\n"
          ]
        }
      ]
    },
    {
      "cell_type": "code",
      "source": [
        "# 11. Sort arrays with items 1 and 0\n",
        "L = [1, 0, 1, 0, 1, 0, 0, 1]\n",
        "L.sort()\n",
        "print(L)\n"
      ],
      "metadata": {
        "id": "TEJ4_fAA38pT",
        "colab": {
          "base_uri": "https://localhost:8080/"
        },
        "outputId": "ffef9858-dd63-4d2a-df48-755ea716d880"
      },
      "execution_count": 1,
      "outputs": [
        {
          "output_type": "stream",
          "name": "stdout",
          "text": [
            "[0, 0, 0, 0, 1, 1, 1, 1]\n"
          ]
        }
      ]
    },
    {
      "cell_type": "code",
      "source": [
        "# 12. Move all -ve numbers to the end\n",
        "L = [1, -2, 3, -4, 5, -6]\n",
        "\n",
        "# Separate positives and negatives\n",
        "positives = [x for x in L if x >= 0]\n",
        "negatives = [x for x in L if x < 0]\n",
        "\n",
        "# Concatenate the two\n",
        "result = positives + negatives\n",
        "\n",
        "print(result)\n"
      ],
      "metadata": {
        "id": "QwxCLiXs3-s9",
        "colab": {
          "base_uri": "https://localhost:8080/"
        },
        "outputId": "f6956283-46e8-4895-d8f0-b8b7a22d796b"
      },
      "execution_count": 2,
      "outputs": [
        {
          "output_type": "stream",
          "name": "stdout",
          "text": [
            "[1, 3, 5, -2, -4, -6]\n"
          ]
        }
      ]
    },
    {
      "cell_type": "code",
      "source": [
        "# 13. Maximum Product Subarray.\n",
        "def max_product_subarray(nums):\n",
        "    if not nums:\n",
        "        return 0\n",
        "\n",
        "    max_prod = nums[0]\n",
        "    min_prod = nums[0]\n",
        "    result = nums[0]\n",
        "\n",
        "    for i in range(1, len(nums)):\n",
        "        curr = nums[i]\n",
        "\n",
        "        # If current number is negative, swap max and min\n",
        "        if curr < 0:\n",
        "            max_prod, min_prod = min_prod, max_prod\n",
        "\n",
        "        max_prod = max(curr, curr * max_prod)\n",
        "        min_prod = min(curr, curr * min_prod)\n",
        "\n",
        "        result = max(result, max_prod)\n",
        "\n",
        "    return result\n",
        "\n",
        "\n"
      ],
      "metadata": {
        "id": "VWa9FDKr7Dyl"
      },
      "execution_count": 5,
      "outputs": []
    },
    {
      "cell_type": "code",
      "source": [
        "# 14. Find union of 2 arrays\n",
        "arr1 = [1, 2, 3, 4]\n",
        "arr2 = [3, 4, 5, 6]\n",
        "\n",
        "union = list(set(arr1) | set(arr2))  # or: set(arr1 + arr2)\n",
        "\n",
        "print(\"Union:\", union)\n"
      ],
      "metadata": {
        "id": "czP57bDP7H04",
        "colab": {
          "base_uri": "https://localhost:8080/"
        },
        "outputId": "6e24be51-3f41-42b1-888c-e9e2b26ead96"
      },
      "execution_count": 3,
      "outputs": [
        {
          "output_type": "stream",
          "name": "stdout",
          "text": [
            "Union: [1, 2, 3, 4, 5, 6]\n"
          ]
        }
      ]
    },
    {
      "cell_type": "code",
      "source": [
        "# 15. Find Pythagorean triplets in an array\n",
        "# Input array\n",
        "arr = [3, 1, 4, 6, 5, 10, 8]\n",
        "\n",
        "# Step 1: Generate all possible triplets where a^2 + b^2 = c^2\n",
        "triplets = [\n",
        "    (a, b, c)\n",
        "    for a in arr\n",
        "    for b in arr\n",
        "    for c in arr\n",
        "    if a != b and b != c and a != c and a * a + b * b == c * c\n",
        "]\n",
        "\n",
        "# Step 2: Remove duplicates by sorting each triplet and using a set\n",
        "unique_triplets = set(tuple(sorted(t)) for t in triplets)\n",
        "\n",
        "# Step 3: Print the result\n",
        "if unique_triplets:\n",
        "    for triplet in unique_triplets:\n",
        "        print(\"Pythagorean triplet found:\", triplet)\n",
        "else:\n",
        "    print(\"No Pythagorean triplet found.\")\n",
        "\n"
      ],
      "metadata": {
        "id": "alYVlMK9ZKIy",
        "colab": {
          "base_uri": "https://localhost:8080/"
        },
        "outputId": "2b02fd22-15d5-4565-abc6-df594f46eafc"
      },
      "execution_count": 6,
      "outputs": [
        {
          "output_type": "stream",
          "name": "stdout",
          "text": [
            "Pythagorean triplet found: (6, 8, 10)\n",
            "Pythagorean triplet found: (3, 4, 5)\n"
          ]
        }
      ]
    }
  ]
}