{
  "nbformat": 4,
  "nbformat_minor": 0,
  "metadata": {
    "colab": {
      "provenance": [],
      "authorship_tag": "ABX9TyP6nmodvmvD8xjJXMoFs2dC",
      "include_colab_link": true
    },
    "kernelspec": {
      "name": "python3",
      "display_name": "Python 3"
    },
    "language_info": {
      "name": "python"
    }
  },
  "cells": [
    {
      "cell_type": "markdown",
      "metadata": {
        "id": "view-in-github",
        "colab_type": "text"
      },
      "source": [
        "<a href=\"https://colab.research.google.com/github/SobanAliAwan/PYTHON-FUNDAMENTALS-2/blob/main/Python_Fundamentals_2_(Session_1).ipynb\" target=\"_parent\"><img src=\"https://colab.research.google.com/assets/colab-badge.svg\" alt=\"Open In Colab\"/></a>"
      ]
    },
    {
      "cell_type": "markdown",
      "source": [
        "1.LISTS\n",
        "\n",
        "* What are lists\n",
        "* Lists vs arrays\n",
        "* Characteristics of a list\n",
        "* How to create a list\n",
        "* Access items from a list\n",
        "* Editing items in a list\n",
        "* Deleting items in a list\n",
        "* Operations on lists\n",
        "* Functions on list\n"
      ],
      "metadata": {
        "id": "hFAxaihLBWpl"
      }
    },
    {
      "cell_type": "code",
      "execution_count": 2,
      "metadata": {
        "id": "fPqV3auyik72",
        "colab": {
          "base_uri": "https://localhost:8080/"
        },
        "outputId": "f14ca009-e504-486d-8d5a-a2c4e14c8c12"
      },
      "outputs": [
        {
          "output_type": "stream",
          "name": "stdout",
          "text": [
            "20\n",
            "soban\n",
            "37.75\n",
            "[1, 2, 3]\n"
          ]
        }
      ],
      "source": [
        "# Lists are data types where you can store multiple items under 1 name.\n",
        "# Lists act like dynamic arrays which means you can add more items on a fly\n",
        "l = [20, 'soban', 37.75, [1,2,3]]\n",
        "print(l[0])\n",
        "print(l[1])\n",
        "print(l[2])\n",
        "print(l[3])\n",
        "\n"
      ]
    },
    {
      "cell_type": "markdown",
      "source": [
        "LISTS VS ARRAYS"
      ],
      "metadata": {
        "id": "du1GsEjMO1ub"
      }
    },
    {
      "cell_type": "code",
      "source": [
        "# Arrays are statics while list are dynamic\n",
        "# Arrays are homogenous means they can store only one type of data type at a time while list are hetrogenous\n",
        "# Arrays have faster rate of execution while lists have slower rate of execution due to dynamic nature\n",
        "# List are more memory ocuping then arrays\n",
        "L = [1,2,3]\n",
        "print(id(L))\n",
        "print(id(L[0]))\n",
        "print(id(L[1]))\n",
        "print(id(L[2]))\n",
        "print(id(1))\n",
        "print(id(2))\n",
        "print(id(3))\n",
        "\n"
      ],
      "metadata": {
        "colab": {
          "base_uri": "https://localhost:8080/"
        },
        "id": "s3c9rAR_O0Ug",
        "outputId": "fc78f1e7-31ff-4e9c-e3aa-6bfff308b970"
      },
      "execution_count": 4,
      "outputs": [
        {
          "output_type": "stream",
          "name": "stdout",
          "text": [
            "134432639738432\n",
            "10757736\n",
            "10757768\n",
            "10757800\n",
            "10757736\n",
            "10757768\n",
            "10757800\n"
          ]
        }
      ]
    },
    {
      "cell_type": "markdown",
      "source": [
        "How lists are stroed in memory"
      ],
      "metadata": {
        "id": "_GQmDWDaXjsT"
      }
    },
    {
      "cell_type": "code",
      "source": [
        "# Lists are stored in memory in the form of referential array which stores refrences/adresses/pointers of conatiners created in memory"
      ],
      "metadata": {
        "id": "SmLqKeKyXcIH"
      },
      "execution_count": 5,
      "outputs": []
    },
    {
      "cell_type": "markdown",
      "source": [
        "Characteristics of a list\n",
        "* ordered\n",
        "* Changable/Mutable\n",
        "* Hetrogenous\n",
        "* Can have duplicates\n",
        "* Are dynamic\n",
        "* Can be nested\n",
        "* Items can be accessed\n",
        "* Can contain any kind of object in python\n"
      ],
      "metadata": {
        "id": "emt0LORZX3yT"
      }
    },
    {
      "cell_type": "code",
      "source": [
        "l1 = [1,2,3]\n",
        "l2 = [3,2,1]\n",
        "\n",
        "l1 == l2 # Fase although list items are same but order of list items are not same\n"
      ],
      "metadata": {
        "colab": {
          "base_uri": "https://localhost:8080/"
        },
        "id": "Zl4n4leLX0Ev",
        "outputId": "0124b056-2f56-4f1f-e853-ec53348bb983"
      },
      "execution_count": 9,
      "outputs": [
        {
          "output_type": "execute_result",
          "data": {
            "text/plain": [
              "False"
            ]
          },
          "metadata": {},
          "execution_count": 9
        }
      ]
    },
    {
      "cell_type": "code",
      "source": [
        "l1 = [1,2,3,1,1] # lists can have duplicate items unlike array which can not hold repitation"
      ],
      "metadata": {
        "id": "lZdJe1msY9Ri"
      },
      "execution_count": 10,
      "outputs": []
    },
    {
      "cell_type": "code",
      "source": [
        "l1 = [1,2,'3',[4,5,6]] # list can be nested"
      ],
      "metadata": {
        "id": "eMDNazj5ZLoN"
      },
      "execution_count": 12,
      "outputs": []
    },
    {
      "cell_type": "markdown",
      "source": [
        "CREATING A PYTHON LIST"
      ],
      "metadata": {
        "id": "By_0o8o7ZoQ8"
      }
    },
    {
      "cell_type": "code",
      "source": [
        "# Empty list\n",
        "print([])\n",
        "\n",
        "# 1D homo\n",
        "print([1,2,3])\n",
        "\n",
        "# 2d list\n",
        "print([1,2,3,[4,5,6]])\n",
        "\n",
        "# 3D list\n",
        "print([ [1, 2], [3, 4] ], [ [5, 6], [7, 8] ], [ [9, 10], [11, 12] ])\n",
        "\n",
        "# Hetrogenous list\n",
        "print([1,2,True,5.5,5+6j,'Hello'])\n",
        "\n",
        "# Using typeconversion\n",
        "print(list('Hello'))"
      ],
      "metadata": {
        "colab": {
          "base_uri": "https://localhost:8080/"
        },
        "id": "zPhgoL6DZZL5",
        "outputId": "59c62aa4-f128-4620-9b21-a9f833cc905d"
      },
      "execution_count": 15,
      "outputs": [
        {
          "output_type": "stream",
          "name": "stdout",
          "text": [
            "[]\n",
            "[1, 2, 3]\n",
            "[1, 2, 3, [4, 5, 6]]\n",
            "[[1, 2], [3, 4]] [[5, 6], [7, 8]] [[9, 10], [11, 12]]\n",
            "[1, 2, True, 5.5, (5+6j), 'Hello']\n",
            "['H', 'e', 'l', 'l', 'o']\n"
          ]
        }
      ]
    },
    {
      "cell_type": "markdown",
      "source": [
        "ACCESSING ITEMS FROM A LIST"
      ],
      "metadata": {
        "id": "gy9cgr95cn3Y"
      }
    },
    {
      "cell_type": "code",
      "source": [
        "# Indexing\n",
        "A= [ [1, 2], [3, 4] ], [ [5, 6], [7, 8] ], [ [9, 10], [11, 12] ]\n",
        "print(A[0][0][1])\n",
        "\n",
        "# Slicing\n",
        "A= [ [1, 2], [3, 4] ], [ [5, 6], [7, 8] ], [ [9, 10], [11, 12] ]\n",
        "print(A[1:2:1])"
      ],
      "metadata": {
        "colab": {
          "base_uri": "https://localhost:8080/"
        },
        "id": "Fs659L7FcbOm",
        "outputId": "bde1a3d9-9353-422e-ddae-1db928943768"
      },
      "execution_count": 18,
      "outputs": [
        {
          "output_type": "stream",
          "name": "stdout",
          "text": [
            "2\n",
            "([[5, 6], [7, 8]],)\n"
          ]
        }
      ]
    },
    {
      "cell_type": "markdown",
      "source": [
        "ADDING ITEMS TO A LIST"
      ],
      "metadata": {
        "id": "eXmOeEZMpMzq"
      }
    },
    {
      "cell_type": "code",
      "source": [
        "l = [1,2,3,4,5]\n",
        "\n",
        "# APPEND FUNCTION\n",
        "# ADD ONE ITEM AT THE END OF THE LIST\n",
        "l.append([6,7,8])\n",
        "print(l)\n",
        "l.append('ISLAMABAD')\n",
        "print(l)"
      ],
      "metadata": {
        "colab": {
          "base_uri": "https://localhost:8080/"
        },
        "id": "8jWoOxa6pP9H",
        "outputId": "e3c96df9-ea60-4405-9c22-c1bdb1a46d2f"
      },
      "execution_count": 25,
      "outputs": [
        {
          "output_type": "stream",
          "name": "stdout",
          "text": [
            "[1, 2, 3, 4, 5, [6, 7, 8]]\n",
            "[1, 2, 3, 4, 5, [6, 7, 8], 'ISLAMABAD']\n"
          ]
        }
      ]
    },
    {
      "cell_type": "code",
      "source": [
        "l = [1,2,3,4,5]\n",
        "# EXTEND FUNCTION\n",
        "# ADD MORE THAN ONE ITEMS AT THE END OF THE LIST\n",
        "l.extend([6,7,8,9,10])\n",
        "print(l)\n",
        "l.extend(['ISLAMABAD'])\n",
        "print(l)"
      ],
      "metadata": {
        "colab": {
          "base_uri": "https://localhost:8080/"
        },
        "id": "fS6dhV80powW",
        "outputId": "cb0404ad-401e-450a-a3e1-405d2de60548"
      },
      "execution_count": 26,
      "outputs": [
        {
          "output_type": "stream",
          "name": "stdout",
          "text": [
            "[1, 2, 3, 4, 5, 6, 7, 8, 9, 10]\n",
            "[1, 2, 3, 4, 5, 6, 7, 8, 9, 10, 'ISLAMABAD']\n"
          ]
        }
      ]
    },
    {
      "cell_type": "code",
      "source": [
        "l = [1,2,3,4,5]\n",
        "# IINSERT FUNCTION\n",
        "# ADD ITEM IN THE DESIRED LOCATION OR INDEX\n",
        "l.insert(2,100)\n",
        "print(l)"
      ],
      "metadata": {
        "colab": {
          "base_uri": "https://localhost:8080/"
        },
        "id": "JebFU4_1q5yu",
        "outputId": "59979d39-d74a-4d28-f5b2-2c792aa86f6b"
      },
      "execution_count": 29,
      "outputs": [
        {
          "output_type": "stream",
          "name": "stdout",
          "text": [
            "[1, 2, 100, 3, 4, 5]\n"
          ]
        }
      ]
    },
    {
      "cell_type": "markdown",
      "source": [
        "EDITING ITEMS IN A LIST"
      ],
      "metadata": {
        "id": "y0ha3QUsryjv"
      }
    },
    {
      "cell_type": "code",
      "source": [
        "l = [1,2,3,4,5]\n",
        "# EDITING WITH INDEXING\n",
        "l[-1] = 500\n",
        "print(l)\n",
        "\n",
        "# EDITING WITH SLICING\n",
        "l[1:4] = [200,300,400]\n",
        "print(l)"
      ],
      "metadata": {
        "colab": {
          "base_uri": "https://localhost:8080/"
        },
        "id": "b0_v48ZYryJd",
        "outputId": "ea712019-db7a-4e30-e102-a77087cb4682"
      },
      "execution_count": 32,
      "outputs": [
        {
          "output_type": "stream",
          "name": "stdout",
          "text": [
            "[1, 2, 3, 4, 500]\n",
            "[1, 200, 300, 400, 500]\n"
          ]
        }
      ]
    },
    {
      "cell_type": "markdown",
      "source": [
        "DELETING ITEMS FROM A LIST"
      ],
      "metadata": {
        "id": "bDti7k2osw1A"
      }
    },
    {
      "cell_type": "code",
      "source": [
        "# DEL\n",
        "l = [1,2,3,4,5]\n",
        "del l[1:3]\n",
        "print(l)"
      ],
      "metadata": {
        "colab": {
          "base_uri": "https://localhost:8080/"
        },
        "id": "7f-05himsoMk",
        "outputId": "7167ac28-1662-436e-f447-f15da14981ad"
      },
      "execution_count": 35,
      "outputs": [
        {
          "output_type": "stream",
          "name": "stdout",
          "text": [
            "[1, 4, 5]\n"
          ]
        }
      ]
    },
    {
      "cell_type": "code",
      "source": [
        "# REMOVE\n",
        "# delete item by value wise\n",
        "l = [1,2,3,4,5]\n",
        "l.remove(3)\n",
        "print(l)"
      ],
      "metadata": {
        "colab": {
          "base_uri": "https://localhost:8080/"
        },
        "id": "vHqCkD1ctGEh",
        "outputId": "cef41a84-1c3c-4362-a851-6a227ea32d44"
      },
      "execution_count": 37,
      "outputs": [
        {
          "output_type": "stream",
          "name": "stdout",
          "text": [
            "[1, 2, 4, 5]\n"
          ]
        }
      ]
    },
    {
      "cell_type": "code",
      "source": [
        "# POP\n",
        "# DELETE ITEM BY INDEX NUMBER\n",
        "l = [1,2,3,4,5]\n",
        "l.pop(3)\n",
        "print(l)"
      ],
      "metadata": {
        "colab": {
          "base_uri": "https://localhost:8080/"
        },
        "id": "JenvJhAHt7RQ",
        "outputId": "1b4fc78f-2288-42af-f51c-002ab30a74b2"
      },
      "execution_count": 39,
      "outputs": [
        {
          "output_type": "stream",
          "name": "stdout",
          "text": [
            "[1, 2, 3, 5]\n"
          ]
        }
      ]
    },
    {
      "cell_type": "code",
      "source": [
        "# CLEAR\n",
        "# EMPTIMIZE THE LIST\n",
        "l = [1,2,3,4,5]\n",
        "l.clear()\n",
        "print(l)"
      ],
      "metadata": {
        "colab": {
          "base_uri": "https://localhost:8080/"
        },
        "id": "YFGU_0IKuOSD",
        "outputId": "f395f13f-8b8a-4e7d-92ee-384bb32bd770"
      },
      "execution_count": 1,
      "outputs": [
        {
          "output_type": "stream",
          "name": "stdout",
          "text": [
            "[]\n"
          ]
        }
      ]
    },
    {
      "cell_type": "markdown",
      "source": [
        "LIST OPERATORS\n",
        "* ARITHMETAIC OPERATORS\n",
        "* MEMBERSHIP OPERATORS\n",
        "* LOOP"
      ],
      "metadata": {
        "id": "qJr2nhFjdvzp"
      }
    },
    {
      "cell_type": "code",
      "source": [
        "# Arithematic operators (+,*)\n",
        "l1 = [1,2,3,4,5]\n",
        "l2 = [6,7,8,9,10]\n",
        "print(l1 + l2)\n",
        "print(l1 * 2)\n"
      ],
      "metadata": {
        "colab": {
          "base_uri": "https://localhost:8080/"
        },
        "id": "e1ahHyRTdvIp",
        "outputId": "3158a31c-e7fb-4586-a4ed-c19ea7a7e7c2"
      },
      "execution_count": 5,
      "outputs": [
        {
          "output_type": "stream",
          "name": "stdout",
          "text": [
            "[1, 2, 3, 4, 5, 6, 7, 8, 9, 10]\n",
            "[1, 2, 3, 4, 5, 1, 2, 3, 4, 5]\n"
          ]
        }
      ]
    },
    {
      "cell_type": "code",
      "source": [
        "# Membership operator\n",
        "# in/not in\n",
        "l1 = [1,2,3,4,5]\n",
        "l2 = [1,2,3,[4,5]]\n",
        "print(5 in l1)\n",
        "print(5 not in l1)\n",
        "print(5 in l2)\n",
        "print(5 not in l2)\n"
      ],
      "metadata": {
        "colab": {
          "base_uri": "https://localhost:8080/"
        },
        "id": "p5mzcyRbfTyW",
        "outputId": "7ca6e5c5-4e0a-42eb-a30b-96b7533c622e"
      },
      "execution_count": 7,
      "outputs": [
        {
          "output_type": "stream",
          "name": "stdout",
          "text": [
            "True\n",
            "False\n",
            "False\n",
            "True\n"
          ]
        }
      ]
    },
    {
      "cell_type": "code",
      "source": [
        "l1 = [1,2,3,4,5]\n",
        "l2 = [1,2,3,[4,5]]\n",
        "A= [ [1, 2], [3, 4] ], [ [5, 6], [7, 8] ], [ [9, 10], [11, 12] ]\n",
        "\n",
        "for i in l1:\n",
        "  print(i)\n",
        "\n",
        "for i in l2:\n",
        "  print(i)\n",
        "\n",
        "for i in A:\n",
        "  print(i)"
      ],
      "metadata": {
        "colab": {
          "base_uri": "https://localhost:8080/"
        },
        "id": "GN5IQHtvgFEw",
        "outputId": "82877247-188d-4fe5-cbbf-ad5e78e4adf7"
      },
      "execution_count": 10,
      "outputs": [
        {
          "output_type": "stream",
          "name": "stdout",
          "text": [
            "1\n",
            "2\n",
            "3\n",
            "4\n",
            "5\n",
            "1\n",
            "2\n",
            "3\n",
            "[4, 5]\n",
            "[[1, 2], [3, 4]]\n",
            "[[5, 6], [7, 8]]\n",
            "[[9, 10], [11, 12]]\n"
          ]
        }
      ]
    },
    {
      "cell_type": "markdown",
      "source": [
        "FUNCTIONS IN LISTS"
      ],
      "metadata": {
        "id": "8xh4OGkIhAno"
      }
    },
    {
      "cell_type": "code",
      "source": [
        "# len/max/min/sorted\n",
        "l1 = [1,2,3,4,5]\n",
        "print(len(l1))\n",
        "print(max(l1))\n",
        "print(min(l1))\n",
        "print(sorted(l1)) # Print in ascending order\n",
        "print(sorted(l1,reverse=True)) # Print in descending order"
      ],
      "metadata": {
        "colab": {
          "base_uri": "https://localhost:8080/"
        },
        "id": "GlqC5QMvg_9J",
        "outputId": "a13faa33-6bd8-4e24-bd39-c82fc117a6b1"
      },
      "execution_count": 11,
      "outputs": [
        {
          "output_type": "stream",
          "name": "stdout",
          "text": [
            "5\n",
            "5\n",
            "1\n",
            "[1, 2, 3, 4, 5]\n",
            "[5, 4, 3, 2, 1]\n"
          ]
        }
      ]
    },
    {
      "cell_type": "code",
      "source": [
        "# Count\n",
        "l1 = [1,2,3,3,4,5]\n",
        "print(l1.count(3))\n"
      ],
      "metadata": {
        "colab": {
          "base_uri": "https://localhost:8080/"
        },
        "id": "HP4WP5Klhpt2",
        "outputId": "ac676cf0-140a-4f4e-c1ec-3248aefbf9fe"
      },
      "execution_count": 14,
      "outputs": [
        {
          "output_type": "stream",
          "name": "stdout",
          "text": [
            "2\n"
          ]
        }
      ]
    },
    {
      "cell_type": "code",
      "source": [
        "# Index\n",
        "l1 = [1,2,3,4,5]\n",
        "l1.index(2)"
      ],
      "metadata": {
        "colab": {
          "base_uri": "https://localhost:8080/"
        },
        "id": "xoVAgCO-huys",
        "outputId": "630c838a-04ad-4233-d3e0-4b309169c03e"
      },
      "execution_count": 19,
      "outputs": [
        {
          "output_type": "execute_result",
          "data": {
            "text/plain": [
              "1"
            ]
          },
          "metadata": {},
          "execution_count": 19
        }
      ]
    },
    {
      "cell_type": "code",
      "source": [
        "# REVERSE\n",
        "l1 = [1,2,3,4,5]\n",
        "l1.reverse() #permanently reverse the list\n",
        "print(l1)"
      ],
      "metadata": {
        "colab": {
          "base_uri": "https://localhost:8080/"
        },
        "id": "IOfFhUBziPEk",
        "outputId": "0759caa8-452b-4331-94d3-ff3a1c98951d"
      },
      "execution_count": 21,
      "outputs": [
        {
          "output_type": "stream",
          "name": "stdout",
          "text": [
            "[5, 4, 3, 2, 1]\n"
          ]
        }
      ]
    },
    {
      "cell_type": "code",
      "source": [
        "# sort vs sorted\n",
        "# sort is permanent and sorted is not permanent\n",
        "l1 = [1, 2, 3, 4, 5]\n",
        "print(l1)             # Prints original list\n",
        "print(sorted(l1))     # Returns a new sorted list (non-permanent)\n",
        "print(l1)             # Original list remains unchanged\n",
        "l1.sort()             # Sorts the list in place (permanent)\n",
        "print(l1)             # Now the list is sorted\n"
      ],
      "metadata": {
        "colab": {
          "base_uri": "https://localhost:8080/"
        },
        "id": "6oA9fIPxitCV",
        "outputId": "c8af2611-830f-4647-c055-803dff727be6"
      },
      "execution_count": 24,
      "outputs": [
        {
          "output_type": "stream",
          "name": "stdout",
          "text": [
            "[1, 2, 3, 4, 5]\n",
            "[1, 2, 3, 4, 5]\n",
            "[1, 2, 3, 4, 5]\n",
            "[1, 2, 3, 4, 5]\n"
          ]
        }
      ]
    },
    {
      "cell_type": "code",
      "source": [
        "# Copy\n",
        "l = [1, 2, 3, 4, 5]\n",
        "print(l)\n",
        "print(id(l))\n",
        "l1 = l.copy()\n",
        "print(l1)\n",
        "print(id(l1))\n",
        "# Hence not a permanent function\n"
      ],
      "metadata": {
        "colab": {
          "base_uri": "https://localhost:8080/"
        },
        "id": "EYe803ZBogRF",
        "outputId": "20ade6d7-c16d-4705-b811-de21d4452187"
      },
      "execution_count": 26,
      "outputs": [
        {
          "output_type": "stream",
          "name": "stdout",
          "text": [
            "[1, 2, 3, 4, 5]\n",
            "140632969484480\n",
            "[1, 2, 3, 4, 5]\n",
            "140632969494272\n"
          ]
        }
      ]
    },
    {
      "cell_type": "markdown",
      "source": [
        "LIST COMPREHENSION IN PYTHON\n"
      ],
      "metadata": {
        "id": "Pq_xYa0apMs4"
      }
    },
    {
      "cell_type": "code",
      "source": [
        "# LIST COMPREHENSION PROVIDE A COCISE WAY OF CREATING A LIST\n",
        "# NEWLIST = {expression FOR item IN iterable IF condition == True }\n",
        "# More time efficient and space efficient than loops\n",
        "# require fewer lines of code\n",
        "# Transform iterative statement into a formula\n"
      ],
      "metadata": {
        "id": "_EddbOGEpMEk"
      },
      "execution_count": 27,
      "outputs": []
    },
    {
      "cell_type": "code",
      "source": [
        "# Add 1 to 10 numbers to a list\n",
        "l = []\n",
        "\n",
        "for i in range (1,11):\n",
        "  l.append(i)\n",
        "print(l)\n"
      ],
      "metadata": {
        "colab": {
          "base_uri": "https://localhost:8080/"
        },
        "id": "mXOcBBZRq0W2",
        "outputId": "5bdebb9e-2456-4e4b-deb9-63877e9967c3"
      },
      "execution_count": 30,
      "outputs": [
        {
          "output_type": "stream",
          "name": "stdout",
          "text": [
            "[1, 2, 3, 4, 5, 6, 7, 8, 9, 10]\n"
          ]
        }
      ]
    },
    {
      "cell_type": "code",
      "source": [
        "l = [i for i in range(1,11)]\n",
        "print(l)"
      ],
      "metadata": {
        "colab": {
          "base_uri": "https://localhost:8080/"
        },
        "id": "mMagCkOIq66X",
        "outputId": "63f973e2-6c9c-4870-aaab-a4bd6b114114"
      },
      "execution_count": 33,
      "outputs": [
        {
          "output_type": "stream",
          "name": "stdout",
          "text": [
            "[1, 2, 3, 4, 5, 6, 7, 8, 9, 10]\n"
          ]
        }
      ]
    },
    {
      "cell_type": "code",
      "source": [
        "# Scalar multiplication on a vector\n",
        "v = [2,3,4]\n",
        "s= -3\n",
        "\n",
        "x = []\n",
        "for i in v:\n",
        "  x.append(i * s)\n",
        "\n",
        "print(x)\n"
      ],
      "metadata": {
        "colab": {
          "base_uri": "https://localhost:8080/"
        },
        "id": "M76Z5iCrsO8C",
        "outputId": "c4161ea0-1c76-4aa1-e706-18dce85c1b40"
      },
      "execution_count": 35,
      "outputs": [
        {
          "output_type": "stream",
          "name": "stdout",
          "text": [
            "[-6, -9, -12]\n"
          ]
        }
      ]
    },
    {
      "cell_type": "code",
      "source": [
        "v = [2,3,4]\n",
        "s= -3\n",
        "[s * i for i in v]"
      ],
      "metadata": {
        "colab": {
          "base_uri": "https://localhost:8080/"
        },
        "id": "Jg6oO6PGsuuj",
        "outputId": "be0244f8-5fba-4cb6-e22f-0ca82099fab6"
      },
      "execution_count": 37,
      "outputs": [
        {
          "output_type": "execute_result",
          "data": {
            "text/plain": [
              "[-6, -9, -12]"
            ]
          },
          "metadata": {},
          "execution_count": 37
        }
      ]
    },
    {
      "cell_type": "code",
      "source": [
        "# squares of a list\n",
        "v = [2,3,4]\n",
        "[i ** 2 for i in v]"
      ],
      "metadata": {
        "colab": {
          "base_uri": "https://localhost:8080/"
        },
        "id": "pAuX6r8BtKFG",
        "outputId": "0e11af38-60dd-4914-febe-60eb180fe07c"
      },
      "execution_count": 39,
      "outputs": [
        {
          "output_type": "execute_result",
          "data": {
            "text/plain": [
              "[4, 9, 16]"
            ]
          },
          "metadata": {},
          "execution_count": 39
        }
      ]
    },
    {
      "cell_type": "code",
      "source": [
        "# Print all the numbers divisible by 5 fro 1 to 50\n",
        "[i for i in range(1,51) if i % 5 == 0]"
      ],
      "metadata": {
        "colab": {
          "base_uri": "https://localhost:8080/"
        },
        "id": "3uRkONpetiDK",
        "outputId": "7cc94851-4ee1-42a5-c1ca-57837923af61"
      },
      "execution_count": 41,
      "outputs": [
        {
          "output_type": "execute_result",
          "data": {
            "text/plain": [
              "[5, 10, 15, 20, 25, 30, 35, 40, 45, 50]"
            ]
          },
          "metadata": {},
          "execution_count": 41
        }
      ]
    },
    {
      "cell_type": "code",
      "source": [
        "# Find laguages which start with letter p\n",
        "languages = ['python','r','php','java','c']\n",
        "[language for language in languages if language.startswith('p')]\n"
      ],
      "metadata": {
        "colab": {
          "base_uri": "https://localhost:8080/"
        },
        "id": "ZgpQfNeJuPBn",
        "outputId": "5de056e9-b6aa-4d1a-9519-ff3671c71003"
      },
      "execution_count": 43,
      "outputs": [
        {
          "output_type": "execute_result",
          "data": {
            "text/plain": [
              "['python', 'php']"
            ]
          },
          "metadata": {},
          "execution_count": 43
        }
      ]
    },
    {
      "cell_type": "code",
      "source": [
        "# Nested if with if comprehension\n",
        "basket = ['apple','mango','cherry','banana']\n",
        "my_fruits = ['apple','kiwi','grape','banana']\n",
        "\n",
        "[fruit for fruit in my_fruits if fruit in basket if fruit.startswith('a')]"
      ],
      "metadata": {
        "colab": {
          "base_uri": "https://localhost:8080/"
        },
        "id": "OfenzyKWw7X4",
        "outputId": "46490698-eb86-49ae-b360-4002e13fe505"
      },
      "execution_count": 45,
      "outputs": [
        {
          "output_type": "execute_result",
          "data": {
            "text/plain": [
              "['apple']"
            ]
          },
          "metadata": {},
          "execution_count": 45
        }
      ]
    },
    {
      "cell_type": "code",
      "source": [
        "# A 3x3 matrix using list comprehension\n",
        "[[i * j for i in range(1,4)]  for j in range(1,4)]"
      ],
      "metadata": {
        "colab": {
          "base_uri": "https://localhost:8080/"
        },
        "id": "SDgTvGsHxyFs",
        "outputId": "65715a25-879b-450f-d6bb-c0d7abf45a0c"
      },
      "execution_count": 49,
      "outputs": [
        {
          "output_type": "execute_result",
          "data": {
            "text/plain": [
              "[[1, 2, 3], [2, 4, 6], [3, 6, 9]]"
            ]
          },
          "metadata": {},
          "execution_count": 49
        }
      ]
    },
    {
      "cell_type": "code",
      "source": [
        "# cartesian product\n",
        "l1 = [1,2,3,4]\n",
        "l2 = [5,6,7,8]\n",
        "\n",
        "[i *j for i in l1 for j in l2]"
      ],
      "metadata": {
        "colab": {
          "base_uri": "https://localhost:8080/"
        },
        "id": "qHs0wEZoyj6T",
        "outputId": "368adcf0-79dd-4e67-b02e-d20523b77271"
      },
      "execution_count": 51,
      "outputs": [
        {
          "output_type": "execute_result",
          "data": {
            "text/plain": [
              "[5, 6, 7, 8, 10, 12, 14, 16, 15, 18, 21, 24, 20, 24, 28, 32]"
            ]
          },
          "metadata": {},
          "execution_count": 51
        }
      ]
    },
    {
      "cell_type": "markdown",
      "source": [
        "2 WAYS TO TRAVERSE A LIST\n",
        "* itemwise\n",
        "* indexwise\n"
      ],
      "metadata": {
        "id": "76UXMPtf2L20"
      }
    },
    {
      "cell_type": "code",
      "source": [
        "# itemwsie\n",
        "l1 = [1,2,3,4]\n",
        "for i in l1:\n",
        "  print(i)\n",
        ""
      ],
      "metadata": {
        "colab": {
          "base_uri": "https://localhost:8080/"
        },
        "id": "tAM7Ck4r2KMU",
        "outputId": "f9955ac0-06c2-47bc-f360-b38b0f31b627"
      },
      "execution_count": 52,
      "outputs": [
        {
          "output_type": "stream",
          "name": "stdout",
          "text": [
            "1\n",
            "2\n",
            "3\n",
            "4\n"
          ]
        }
      ]
    },
    {
      "cell_type": "code",
      "source": [
        "# Indexwise\n",
        "l1 = [1,2,3,4]\n",
        "for i in range(0,len(l1)):\n",
        "  print(l1[i])"
      ],
      "metadata": {
        "colab": {
          "base_uri": "https://localhost:8080/"
        },
        "id": "ISzBqHVq4TQK",
        "outputId": "a8cc47a0-4ce3-4726-8243-68484b320a2e"
      },
      "execution_count": 54,
      "outputs": [
        {
          "output_type": "stream",
          "name": "stdout",
          "text": [
            "1\n",
            "2\n",
            "3\n",
            "4\n"
          ]
        }
      ]
    },
    {
      "cell_type": "markdown",
      "source": [
        "ZIP FUNCTION\n"
      ],
      "metadata": {
        "id": "c7J7FTgx40Hd"
      }
    },
    {
      "cell_type": "code",
      "source": [
        "# The zip() function joins two or more lists (or any iterables) together element by element into pairs (tuples).\n",
        "# It’s like zipping up a jacket, where each side has teeth, and zip() joins them together!\n",
        "# Example:\n",
        "\n",
        "names = [\"Ali\", \"Sara\", \"Zain\"]\n",
        "ages = [25, 22, 30]\n",
        "\n",
        "zipped = zip(names, ages)\n",
        "\n",
        "print(list(zipped))\n",
        "\n",
        "[i * j for i,j in zip(names,ages)]\n"
      ],
      "metadata": {
        "colab": {
          "base_uri": "https://localhost:8080/"
        },
        "id": "2ndnB1Oo4y22",
        "outputId": "cd02bd44-fcf3-427d-8ab9-eefab83e3058"
      },
      "execution_count": 58,
      "outputs": [
        {
          "output_type": "stream",
          "name": "stdout",
          "text": [
            "[('Ali', 25), ('Sara', 22), ('Zain', 30)]\n"
          ]
        },
        {
          "output_type": "execute_result",
          "data": {
            "text/plain": [
              "['AliAliAliAliAliAliAliAliAliAliAliAliAliAliAliAliAliAliAliAliAliAliAliAliAli',\n",
              " 'SaraSaraSaraSaraSaraSaraSaraSaraSaraSaraSaraSaraSaraSaraSaraSaraSaraSaraSaraSaraSaraSara',\n",
              " 'ZainZainZainZainZainZainZainZainZainZainZainZainZainZainZainZainZainZainZainZainZainZainZainZainZainZainZainZainZainZain']"
            ]
          },
          "metadata": {},
          "execution_count": 58
        }
      ]
    }
  ]
}