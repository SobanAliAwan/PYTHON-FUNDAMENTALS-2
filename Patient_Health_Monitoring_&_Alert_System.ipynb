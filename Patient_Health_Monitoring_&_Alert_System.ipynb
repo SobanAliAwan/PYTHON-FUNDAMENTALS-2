{
  "nbformat": 4,
  "nbformat_minor": 0,
  "metadata": {
    "colab": {
      "provenance": [],
      "authorship_tag": "ABX9TyOP/8WUVMO6jgi0PCToPYe+",
      "include_colab_link": true
    },
    "kernelspec": {
      "name": "python3",
      "display_name": "Python 3"
    },
    "language_info": {
      "name": "python"
    }
  },
  "cells": [
    {
      "cell_type": "markdown",
      "metadata": {
        "id": "view-in-github",
        "colab_type": "text"
      },
      "source": [
        "<a href=\"https://colab.research.google.com/github/SobanAliAwan/PYTHON-FUNDAMENTALS-2/blob/main/Patient_Health_Monitoring_%26_Alert_System.ipynb\" target=\"_parent\"><img src=\"https://colab.research.google.com/assets/colab-badge.svg\" alt=\"Open In Colab\"/></a>"
      ]
    },
    {
      "cell_type": "markdown",
      "source": [
        "# **Project Title**: Patient Health Monitoring & Alert System (Console-based)\n",
        "**Project Purpose:**\n",
        "Build a Python console app that collects health readings (e.g., temperature, oxygen level, pulse rate) of multiple patients and alerts the doctor (prints warning) if any value crosses critical thresholds.\n",
        "\n",
        "** Project Workflow:**\n",
        "Ask how many patients to register.\n",
        "\n",
        "For each patient:\n",
        "\n",
        "Input: name, age, temperature (°C), oxygen level (%), pulse rate (bpm)\n",
        "\n",
        "Store all patient data in a list of tuples or dictionaries.\n",
        "\n",
        "Use a function to check for critical health signs:\n",
        "\n",
        "Temp > 38°C\n",
        "\n",
        "O2 < 90%\n",
        "\n",
        "Pulse < 60 or > 120\n",
        "\n",
        "Print all critical patients with a warning message."
      ],
      "metadata": {
        "id": "6TTtB-VQB3yX"
      }
    },
    {
      "cell_type": "code",
      "execution_count": 5,
      "metadata": {
        "colab": {
          "base_uri": "https://localhost:8080/"
        },
        "id": "qu-aYvVu9mf4",
        "outputId": "d5afcba1-1bc9-4ec4-f15d-3f2c1dd0e58f"
      },
      "outputs": [
        {
          "output_type": "stream",
          "name": "stdout",
          "text": [
            "Enter number of patients: 5\n",
            "\n",
            "-- Patient 1 --\n",
            "Enter Name: Soban Ali Awan \n",
            "Enter Age: 21\n",
            "Enter Temperature (°C): 46\n",
            "Enter Oxygen Level (%): 98\n",
            "Enter Pulse Rate (bpm): 111\n",
            "\n",
            "-- Patient 2 --\n",
            "Enter Name: Ihsan \n",
            "Enter Age: 19\n",
            "Enter Temperature (°C): 33\n",
            "Enter Oxygen Level (%): 96\n",
            "Enter Pulse Rate (bpm): 80\n",
            "\n",
            "-- Patient 3 --\n",
            "Enter Name: azhar \n",
            "Enter Age: 60\n",
            "Enter Temperature (°C): 42\n",
            "Enter Oxygen Level (%): 62\n",
            "Enter Pulse Rate (bpm): 122\n",
            "\n",
            "-- Patient 4 --\n",
            "Enter Name: aslam \n",
            "Enter Age: 72\n",
            "Enter Temperature (°C): 49\n",
            "Enter Oxygen Level (%): 55\n",
            "Enter Pulse Rate (bpm): 130\n",
            "\n",
            "-- Patient 5 --\n",
            "Enter Name: ali \n",
            "Enter Age: 34\n",
            "Enter Temperature (°C): 32\n",
            "Enter Oxygen Level (%): 67\n",
            "Enter Pulse Rate (bpm): 89\n",
            "\n",
            "⚠️ Critical Alerts:\n",
            "Patient: Soban Ali Awan  | Reason(s): High Temperature\n",
            "Patient: azhar  | Reason(s): High Temperature, Low Oxygen Level, Abnormal Pulse Rate\n",
            "Patient: aslam  | Reason(s): High Temperature, Low Oxygen Level, Abnormal Pulse Rate\n",
            "Patient: ali  | Reason(s): Low Oxygen Level\n"
          ]
        }
      ],
      "source": [
        "# Function to get a single patient's data\n",
        "def get_patient_data():\n",
        "    name = input(\"Enter Name: \")\n",
        "    age = int(input(\"Enter Age: \"))\n",
        "    temp = float(input(\"Enter Temperature (°C): \"))\n",
        "    oxygen = int(input(\"Enter Oxygen Level (%): \"))\n",
        "    pulse = int(input(\"Enter Pulse Rate (bpm): \"))\n",
        "    return (name, age, temp, oxygen, pulse)\n",
        "\n",
        "# Function to check for critical conditions\n",
        "def check_critical(patient):\n",
        "    name, age, temp, oxygen, pulse = patient\n",
        "    reasons = []\n",
        "\n",
        "    if temp > 38.0:\n",
        "        reasons.append(\"High Temperature\")\n",
        "    if oxygen < 90:\n",
        "        reasons.append(\"Low Oxygen Level\")\n",
        "    if pulse < 60 or pulse > 120:\n",
        "        reasons.append(\"Abnormal Pulse Rate\")\n",
        "\n",
        "    return reasons  # List of reasons if critical, else empty\n",
        "\n",
        "# Main program\n",
        "def main():\n",
        "    patients = []\n",
        "\n",
        "    n = int(input(\"Enter number of patients: \"))\n",
        "\n",
        "    for i in range(n):\n",
        "        print(f\"\\n-- Patient {i+1} --\")\n",
        "        patient_data = get_patient_data()\n",
        "        patients.append(patient_data)\n",
        "\n",
        "    print(\"\\n⚠️ Critical Alerts:\")\n",
        "    any_critical = False\n",
        "    for patient in patients:\n",
        "        reasons = check_critical(patient)\n",
        "        if reasons:\n",
        "            name = patient[0]\n",
        "            print(f\"Patient: {name} | Reason(s): {', '.join(reasons)}\")\n",
        "            any_critical = True\n",
        "\n",
        "    if not any_critical:\n",
        "        print(\"All patients are stable ✅\")\n",
        "\n",
        "# Run the program\n",
        "main()\n"
      ]
    }
  ]
}